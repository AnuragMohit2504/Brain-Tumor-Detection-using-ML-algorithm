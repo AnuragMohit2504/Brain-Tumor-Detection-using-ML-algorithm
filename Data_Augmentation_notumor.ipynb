{
 "cells": [
  {
   "cell_type": "code",
   "execution_count": 5,
   "id": "47e3c65c-7625-46b3-b534-5552e9564641",
   "metadata": {},
   "outputs": [],
   "source": [
    "from torchvision import transforms\n",
    "from PIL import Image\n",
    "import os\n",
    "\n",
    "# Define augmentations\n",
    "transform = transforms.Compose([\n",
    "    transforms.RandomHorizontalFlip(),\n",
    "    transforms.RandomRotation(30),\n",
    "    transforms.ColorJitter(brightness=0.2, contrast=0.2),\n",
    "    transforms.ToTensor(),\n",
    "])\n",
    "\n",
    "# Apply augmentation to each image and save\n",
    "source_folder = './Dataset/Training/tumor/'\n",
    "destination_folder = './Dataset/Training/tumor/'\n",
    "os.makedirs(destination_folder, exist_ok=True)\n",
    "\n",
    "images = os.listdir(source_folder)\n",
    "for image_name in images:\n",
    "    image_path = os.path.join(source_folder, image_name)\n",
    "    image = Image.open(image_path)\n",
    "    \n",
    "    # Ensure the image is in RGB mode (if it's not)\n",
    "    if image.mode != 'RGB':\n",
    "        image = image.convert('RGB')\n",
    "        \n",
    "    for i in range(3):  # Generate 3 augmented versions per image\n",
    "        augmented_image = transform(image)  # Apply transformations\n",
    "        augmented_image = transforms.ToPILImage()(augmented_image)  # Convert back to PIL image\n",
    "        \n",
    "        # Convert image to RGB if it has an alpha channel (RGBA)\n",
    "        if augmented_image.mode == 'RGBA':\n",
    "            augmented_image = augmented_image.convert('RGB')\n",
    "        \n",
    "        augmented_image.save(os.path.join(destination_folder, f'{i}_{image_name}'))\n"
   ]
  },
  {
   "cell_type": "code",
   "execution_count": null,
   "id": "88756515-27c1-49ac-8e41-5f84d6292d33",
   "metadata": {},
   "outputs": [],
   "source": []
  }
 ],
 "metadata": {
  "kernelspec": {
   "display_name": "Python 3 (ipykernel)",
   "language": "python",
   "name": "python3"
  },
  "language_info": {
   "codemirror_mode": {
    "name": "ipython",
    "version": 3
   },
   "file_extension": ".py",
   "mimetype": "text/x-python",
   "name": "python",
   "nbconvert_exporter": "python",
   "pygments_lexer": "ipython3",
   "version": "3.10.15"
  }
 },
 "nbformat": 4,
 "nbformat_minor": 5
}
