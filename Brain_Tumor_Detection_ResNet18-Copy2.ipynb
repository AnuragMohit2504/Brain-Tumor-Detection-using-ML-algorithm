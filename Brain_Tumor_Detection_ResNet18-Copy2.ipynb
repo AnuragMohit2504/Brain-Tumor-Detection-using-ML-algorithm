{
 "cells": [
  {
   "cell_type": "code",
   "execution_count": 2,
   "id": "606abf42-20ea-4fea-886a-56be84d6e0eb",
   "metadata": {},
   "outputs": [
    {
     "name": "stderr",
     "output_type": "stream",
     "text": [
      "C:\\Users\\Omkar Choughule\\anaconda3\\envs\\Py310\\lib\\site-packages\\torchvision\\models\\_utils.py:208: UserWarning: The parameter 'pretrained' is deprecated since 0.13 and may be removed in the future, please use 'weights' instead.\n",
      "  warnings.warn(\n",
      "C:\\Users\\Omkar Choughule\\anaconda3\\envs\\Py310\\lib\\site-packages\\torchvision\\models\\_utils.py:223: UserWarning: Arguments other than a weight enum or `None` for 'weights' are deprecated since 0.13 and may be removed in the future. The current behavior is equivalent to passing `weights=None`.\n",
      "  warnings.warn(msg)\n",
      "Epoch 1/30: 100%|████████████████████████████████████████████████████████████████████| 399/399 [00:53<00:00,  7.41it/s]\n"
     ]
    },
    {
     "name": "stdout",
     "output_type": "stream",
     "text": [
      "Train Loss: 0.1970, Accuracy: 92.64%\n",
      "Validation Loss: 0.2206, Accuracy: 92.13%\n",
      "Model saved: model_epoch_1.pth\n"
     ]
    },
    {
     "name": "stderr",
     "output_type": "stream",
     "text": [
      "Epoch 2/30: 100%|████████████████████████████████████████████████████████████████████| 399/399 [00:50<00:00,  7.91it/s]\n"
     ]
    },
    {
     "name": "stdout",
     "output_type": "stream",
     "text": [
      "Train Loss: 0.1078, Accuracy: 96.27%\n",
      "Validation Loss: 0.1601, Accuracy: 94.54%\n",
      "Model saved: model_epoch_2.pth\n"
     ]
    },
    {
     "name": "stderr",
     "output_type": "stream",
     "text": [
      "Epoch 3/30: 100%|████████████████████████████████████████████████████████████████████| 399/399 [00:50<00:00,  7.91it/s]\n"
     ]
    },
    {
     "name": "stdout",
     "output_type": "stream",
     "text": [
      "Train Loss: 0.0839, Accuracy: 97.10%\n",
      "Validation Loss: 0.3667, Accuracy: 87.22%\n",
      "Model saved: model_epoch_3.pth\n"
     ]
    },
    {
     "name": "stderr",
     "output_type": "stream",
     "text": [
      "Epoch 4/30: 100%|████████████████████████████████████████████████████████████████████| 399/399 [00:50<00:00,  7.91it/s]\n"
     ]
    },
    {
     "name": "stdout",
     "output_type": "stream",
     "text": [
      "Train Loss: 0.0734, Accuracy: 97.82%\n",
      "Validation Loss: 0.1415, Accuracy: 95.52%\n",
      "Model saved: model_epoch_4.pth\n"
     ]
    },
    {
     "name": "stderr",
     "output_type": "stream",
     "text": [
      "Epoch 5/30: 100%|████████████████████████████████████████████████████████████████████| 399/399 [00:52<00:00,  7.62it/s]\n"
     ]
    },
    {
     "name": "stdout",
     "output_type": "stream",
     "text": [
      "Train Loss: 0.0563, Accuracy: 98.16%\n",
      "Validation Loss: 0.1937, Accuracy: 94.38%\n",
      "Model saved: model_epoch_5.pth\n"
     ]
    },
    {
     "name": "stderr",
     "output_type": "stream",
     "text": [
      "Epoch 6/30: 100%|████████████████████████████████████████████████████████████████████| 399/399 [00:54<00:00,  7.34it/s]\n"
     ]
    },
    {
     "name": "stdout",
     "output_type": "stream",
     "text": [
      "Train Loss: 0.0437, Accuracy: 98.50%\n",
      "Validation Loss: 0.0985, Accuracy: 96.94%\n",
      "Model saved: model_epoch_6.pth\n"
     ]
    },
    {
     "name": "stderr",
     "output_type": "stream",
     "text": [
      "Epoch 7/30: 100%|████████████████████████████████████████████████████████████████████| 399/399 [00:55<00:00,  7.24it/s]\n"
     ]
    },
    {
     "name": "stdout",
     "output_type": "stream",
     "text": [
      "Train Loss: 0.0449, Accuracy: 98.41%\n",
      "Validation Loss: 0.0918, Accuracy: 97.19%\n",
      "Model saved: model_epoch_7.pth\n"
     ]
    },
    {
     "name": "stderr",
     "output_type": "stream",
     "text": [
      "Epoch 8/30: 100%|████████████████████████████████████████████████████████████████████| 399/399 [00:56<00:00,  7.04it/s]\n"
     ]
    },
    {
     "name": "stdout",
     "output_type": "stream",
     "text": [
      "Train Loss: 0.0321, Accuracy: 98.84%\n",
      "Validation Loss: 0.0883, Accuracy: 96.67%\n",
      "Model saved: model_epoch_8.pth\n"
     ]
    },
    {
     "name": "stderr",
     "output_type": "stream",
     "text": [
      "Epoch 9/30: 100%|████████████████████████████████████████████████████████████████████| 399/399 [00:57<00:00,  6.95it/s]\n"
     ]
    },
    {
     "name": "stdout",
     "output_type": "stream",
     "text": [
      "Train Loss: 0.0296, Accuracy: 99.05%\n",
      "Validation Loss: 0.0485, Accuracy: 98.52%\n",
      "Model saved: model_epoch_9.pth\n"
     ]
    },
    {
     "name": "stderr",
     "output_type": "stream",
     "text": [
      "Epoch 10/30: 100%|███████████████████████████████████████████████████████████████████| 399/399 [00:56<00:00,  7.10it/s]\n"
     ]
    },
    {
     "name": "stdout",
     "output_type": "stream",
     "text": [
      "Train Loss: 0.0255, Accuracy: 99.14%\n",
      "Validation Loss: 0.0565, Accuracy: 98.27%\n",
      "Model saved: model_epoch_10.pth\n"
     ]
    },
    {
     "name": "stderr",
     "output_type": "stream",
     "text": [
      "Epoch 11/30: 100%|███████████████████████████████████████████████████████████████████| 399/399 [00:56<00:00,  7.07it/s]\n"
     ]
    },
    {
     "name": "stdout",
     "output_type": "stream",
     "text": [
      "Train Loss: 0.0211, Accuracy: 99.38%\n",
      "Validation Loss: 0.0595, Accuracy: 98.40%\n",
      "Model saved: model_epoch_11.pth\n"
     ]
    },
    {
     "name": "stderr",
     "output_type": "stream",
     "text": [
      "Epoch 12/30: 100%|███████████████████████████████████████████████████████████████████| 399/399 [00:56<00:00,  7.11it/s]\n"
     ]
    },
    {
     "name": "stdout",
     "output_type": "stream",
     "text": [
      "Train Loss: 0.0139, Accuracy: 99.61%\n",
      "Validation Loss: 0.0465, Accuracy: 98.80%\n",
      "Model saved: model_epoch_12.pth\n"
     ]
    },
    {
     "name": "stderr",
     "output_type": "stream",
     "text": [
      "Epoch 13/30: 100%|███████████████████████████████████████████████████████████████████| 399/399 [00:55<00:00,  7.17it/s]\n"
     ]
    },
    {
     "name": "stdout",
     "output_type": "stream",
     "text": [
      "Train Loss: 0.0213, Accuracy: 99.36%\n",
      "Validation Loss: 0.1540, Accuracy: 96.70%\n",
      "Model saved: model_epoch_13.pth\n"
     ]
    },
    {
     "name": "stderr",
     "output_type": "stream",
     "text": [
      "Epoch 14/30: 100%|███████████████████████████████████████████████████████████████████| 399/399 [00:56<00:00,  7.08it/s]\n"
     ]
    },
    {
     "name": "stdout",
     "output_type": "stream",
     "text": [
      "Train Loss: 0.0182, Accuracy: 99.40%\n",
      "Validation Loss: 0.0703, Accuracy: 98.02%\n",
      "Model saved: model_epoch_14.pth\n"
     ]
    },
    {
     "name": "stderr",
     "output_type": "stream",
     "text": [
      "Epoch 15/30: 100%|███████████████████████████████████████████████████████████████████| 399/399 [00:56<00:00,  7.08it/s]\n"
     ]
    },
    {
     "name": "stdout",
     "output_type": "stream",
     "text": [
      "Train Loss: 0.0151, Accuracy: 99.53%\n",
      "Validation Loss: 0.0375, Accuracy: 99.01%\n",
      "Model saved: model_epoch_15.pth\n"
     ]
    },
    {
     "name": "stderr",
     "output_type": "stream",
     "text": [
      "Epoch 16/30: 100%|███████████████████████████████████████████████████████████████████| 399/399 [00:56<00:00,  7.06it/s]\n"
     ]
    },
    {
     "name": "stdout",
     "output_type": "stream",
     "text": [
      "Train Loss: 0.0116, Accuracy: 99.58%\n",
      "Validation Loss: 0.0496, Accuracy: 98.80%\n",
      "Model saved: model_epoch_16.pth\n"
     ]
    },
    {
     "name": "stderr",
     "output_type": "stream",
     "text": [
      "Epoch 17/30: 100%|███████████████████████████████████████████████████████████████████| 399/399 [00:56<00:00,  7.06it/s]\n"
     ]
    },
    {
     "name": "stdout",
     "output_type": "stream",
     "text": [
      "Train Loss: 0.0104, Accuracy: 99.64%\n",
      "Validation Loss: 0.1219, Accuracy: 97.19%\n",
      "Model saved: model_epoch_17.pth\n"
     ]
    },
    {
     "name": "stderr",
     "output_type": "stream",
     "text": [
      "Epoch 18/30: 100%|███████████████████████████████████████████████████████████████████| 399/399 [00:56<00:00,  7.03it/s]\n"
     ]
    },
    {
     "name": "stdout",
     "output_type": "stream",
     "text": [
      "Train Loss: 0.0113, Accuracy: 99.61%\n",
      "Validation Loss: 0.0650, Accuracy: 98.43%\n",
      "Model saved: model_epoch_18.pth\n"
     ]
    },
    {
     "name": "stderr",
     "output_type": "stream",
     "text": [
      "Epoch 19/30: 100%|███████████████████████████████████████████████████████████████████| 399/399 [00:55<00:00,  7.13it/s]\n"
     ]
    },
    {
     "name": "stdout",
     "output_type": "stream",
     "text": [
      "Train Loss: 0.0068, Accuracy: 99.76%\n",
      "Validation Loss: 0.0390, Accuracy: 99.20%\n",
      "Model saved: model_epoch_19.pth\n"
     ]
    },
    {
     "name": "stderr",
     "output_type": "stream",
     "text": [
      "Epoch 20/30: 100%|███████████████████████████████████████████████████████████████████| 399/399 [00:56<00:00,  7.06it/s]\n"
     ]
    },
    {
     "name": "stdout",
     "output_type": "stream",
     "text": [
      "Train Loss: 0.0087, Accuracy: 99.67%\n",
      "Validation Loss: 0.2987, Accuracy: 94.17%\n",
      "Model saved: model_epoch_20.pth\n"
     ]
    },
    {
     "name": "stderr",
     "output_type": "stream",
     "text": [
      "Epoch 21/30: 100%|███████████████████████████████████████████████████████████████████| 399/399 [00:56<00:00,  7.04it/s]\n"
     ]
    },
    {
     "name": "stdout",
     "output_type": "stream",
     "text": [
      "Train Loss: 0.0121, Accuracy: 99.57%\n",
      "Validation Loss: 0.0423, Accuracy: 98.86%\n",
      "Model saved: model_epoch_21.pth\n"
     ]
    },
    {
     "name": "stderr",
     "output_type": "stream",
     "text": [
      "Epoch 22/30: 100%|███████████████████████████████████████████████████████████████████| 399/399 [00:56<00:00,  7.08it/s]\n"
     ]
    },
    {
     "name": "stdout",
     "output_type": "stream",
     "text": [
      "Train Loss: 0.0061, Accuracy: 99.80%\n",
      "Validation Loss: 0.0621, Accuracy: 98.61%\n",
      "Model saved: model_epoch_22.pth\n"
     ]
    },
    {
     "name": "stderr",
     "output_type": "stream",
     "text": [
      "Epoch 23/30: 100%|███████████████████████████████████████████████████████████████████| 399/399 [00:56<00:00,  7.03it/s]\n"
     ]
    },
    {
     "name": "stdout",
     "output_type": "stream",
     "text": [
      "Train Loss: 0.0115, Accuracy: 99.57%\n",
      "Validation Loss: 0.0458, Accuracy: 98.86%\n",
      "Model saved: model_epoch_23.pth\n"
     ]
    },
    {
     "name": "stderr",
     "output_type": "stream",
     "text": [
      "Epoch 24/30: 100%|███████████████████████████████████████████████████████████████████| 399/399 [00:57<00:00,  6.97it/s]\n"
     ]
    },
    {
     "name": "stdout",
     "output_type": "stream",
     "text": [
      "Train Loss: 0.0013, Accuracy: 99.97%\n",
      "Validation Loss: 0.0667, Accuracy: 98.80%\n",
      "Model saved: model_epoch_24.pth\n"
     ]
    },
    {
     "name": "stderr",
     "output_type": "stream",
     "text": [
      "Epoch 25/30: 100%|███████████████████████████████████████████████████████████████████| 399/399 [00:55<00:00,  7.21it/s]\n"
     ]
    },
    {
     "name": "stdout",
     "output_type": "stream",
     "text": [
      "Train Loss: 0.0009, Accuracy: 99.98%\n",
      "Validation Loss: 0.0427, Accuracy: 99.41%\n",
      "Model saved: model_epoch_25.pth\n"
     ]
    },
    {
     "name": "stderr",
     "output_type": "stream",
     "text": [
      "Epoch 26/30: 100%|███████████████████████████████████████████████████████████████████| 399/399 [00:55<00:00,  7.16it/s]\n"
     ]
    },
    {
     "name": "stdout",
     "output_type": "stream",
     "text": [
      "Train Loss: 0.0005, Accuracy: 100.00%\n",
      "Validation Loss: 0.0591, Accuracy: 98.95%\n",
      "Model saved: model_epoch_26.pth\n"
     ]
    },
    {
     "name": "stderr",
     "output_type": "stream",
     "text": [
      "Epoch 27/30: 100%|███████████████████████████████████████████████████████████████████| 399/399 [00:55<00:00,  7.18it/s]\n"
     ]
    },
    {
     "name": "stdout",
     "output_type": "stream",
     "text": [
      "Train Loss: 0.0003, Accuracy: 99.99%\n",
      "Validation Loss: 0.0952, Accuracy: 98.15%\n",
      "Model saved: model_epoch_27.pth\n"
     ]
    },
    {
     "name": "stderr",
     "output_type": "stream",
     "text": [
      "Epoch 28/30: 100%|███████████████████████████████████████████████████████████████████| 399/399 [00:55<00:00,  7.16it/s]\n"
     ]
    },
    {
     "name": "stdout",
     "output_type": "stream",
     "text": [
      "Train Loss: 0.0215, Accuracy: 99.40%\n",
      "Validation Loss: 0.0581, Accuracy: 98.61%\n",
      "Model saved: model_epoch_28.pth\n"
     ]
    },
    {
     "name": "stderr",
     "output_type": "stream",
     "text": [
      "Epoch 29/30: 100%|███████████████████████████████████████████████████████████████████| 399/399 [00:55<00:00,  7.13it/s]\n"
     ]
    },
    {
     "name": "stdout",
     "output_type": "stream",
     "text": [
      "Train Loss: 0.0084, Accuracy: 99.74%\n",
      "Validation Loss: 0.0515, Accuracy: 98.92%\n",
      "Model saved: model_epoch_29.pth\n"
     ]
    },
    {
     "name": "stderr",
     "output_type": "stream",
     "text": [
      "Epoch 30/30: 100%|███████████████████████████████████████████████████████████████████| 399/399 [00:56<00:00,  7.12it/s]\n"
     ]
    },
    {
     "name": "stdout",
     "output_type": "stream",
     "text": [
      "Train Loss: 0.0039, Accuracy: 99.86%\n",
      "Validation Loss: 0.0791, Accuracy: 98.40%\n",
      "Model saved: model_epoch_30.pth\n"
     ]
    }
   ],
   "source": [
    "import torch\n",
    "import numpy as np\n",
    "import cv2\n",
    "import os\n",
    "from torch.utils.data import Dataset, DataLoader\n",
    "import matplotlib.pyplot as plt\n",
    "from torchvision.models import resnet18\n",
    "from sklearn.model_selection import train_test_split\n",
    "from tqdm import tqdm  # For showing progress bar\n",
    "import torch.nn as nn\n",
    "import torch.optim as optim\n",
    "import torch.nn.functional as F\n",
    "\n",
    "class Dataset(object):\n",
    "    \n",
    "    \n",
    "    def __getitem__(self, index):\n",
    "        raise NotImplementedError\n",
    "        \n",
    "    def __len__(self):\n",
    "        raise NotImplementedError\n",
    "        \n",
    "    def __add__(self, other):\n",
    "        return ConcatDataset([self,other])\n",
    "\n",
    "# Define MRI Dataset\n",
    "class MRI_Dataset(Dataset):\n",
    "    def __init__(self, tumor_dir, healthy_dir, image_size=(224, 224)):\n",
    "        self.images = []\n",
    "        self.labels = []\n",
    "        self.image_size = image_size\n",
    "\n",
    "        # Load tumor images\n",
    "        for filename in os.listdir(tumor_dir):\n",
    "            img = cv2.imread(os.path.join(tumor_dir, filename))\n",
    "            if img is not None:\n",
    "                img = cv2.resize(img, self.image_size)\n",
    "                img = cv2.cvtColor(img, cv2.COLOR_BGR2RGB)  # Convert BGR to RGB\n",
    "                self.images.append(img)\n",
    "                self.labels.append(1)  # Tumor = 1\n",
    "\n",
    "        # Load healthy images\n",
    "        for filename in os.listdir(healthy_dir):\n",
    "            img = cv2.imread(os.path.join(healthy_dir, filename))\n",
    "            if img is not None:\n",
    "                img = cv2.resize(img, self.image_size)\n",
    "                img = cv2.cvtColor(img, cv2.COLOR_BGR2RGB)\n",
    "                self.images.append(img)\n",
    "                self.labels.append(0)  # Healthy = 0\n",
    "\n",
    "        self.images = np.array(self.images)\n",
    "        self.labels = np.array(self.labels)\n",
    "\n",
    "    def __len__(self):\n",
    "        return len(self.images)\n",
    "\n",
    "    def __getitem__(self, idx):\n",
    "        image = self.images[idx].astype(np.float32) / 255.0  # Normalize\n",
    "        label = self.labels[idx]\n",
    "        return {'image': torch.tensor(image).permute(2, 0, 1), 'label': torch.tensor(label, dtype=torch.float32)}\n",
    "\n",
    "# Load dataset paths\n",
    "train_tumor_dir = './Dataset/Training/aug_tumor'\n",
    "train_healthy_dir = './Dataset/Training/aug_notumor'\n",
    "test_tumor_dir = './Dataset/Testing/aug_tumor'  # Separate testing directory\n",
    "test_healthy_dir = './Dataset/Testing/aug_notumor'  # Separate testing directory\n",
    "\n",
    "# Create Dataset and DataLoader for training\n",
    "train_dataset = MRI_Dataset(train_tumor_dir, train_healthy_dir)\n",
    "train_loader = DataLoader(train_dataset, batch_size=32, shuffle=True)\n",
    "\n",
    "# Create Dataset and DataLoader for testing\n",
    "test_dataset = MRI_Dataset(test_tumor_dir, test_healthy_dir)\n",
    "test_loader = DataLoader(test_dataset, batch_size=32, shuffle=False)\n",
    "\n",
    "# Define device (GPU if available, otherwise CPU)\n",
    "device = torch.device('cuda' if torch.cuda.is_available() else 'cpu')\n",
    "\n",
    "# Load pre-trained ResNet18\n",
    "model = resnet18(pretrained=False)\n",
    "num_features = model.fc.in_features\n",
    "model.fc = nn.Sequential(\n",
    "    nn.Linear(num_features, 1),  # Binary classification\n",
    "    nn.Sigmoid()  # Sigmoid for output probabilities\n",
    ")\n",
    "\n",
    "# Initialize model\n",
    "model = model.to(device)\n",
    "\n",
    "# Define Loss function and Optimizer\n",
    "criterion = nn.BCELoss()  # Binary Cross Entropy Loss\n",
    "optimizer = optim.Adam(model.parameters(), lr=0.001)\n",
    "\n",
    "# Set number of epochs (adjust as needed)\n",
    "epochs = 30\n",
    "\n",
    "# Training loop\n",
    "for epoch in range(epochs):\n",
    "    model.train()  # Set model to training mode\n",
    "    running_loss = 0.0\n",
    "    correct = 0\n",
    "    total = 0\n",
    "    for batch in tqdm(train_loader, desc=f\"Epoch {epoch+1}/{epochs}\"):\n",
    "        images = batch['image'].to(device)\n",
    "        labels = batch['label'].to(device)\n",
    "        \n",
    "        optimizer.zero_grad()  # Zero the gradients before backprop\n",
    "        \n",
    "        # Forward pass\n",
    "        outputs = model(images).squeeze()  # Forward pass through the network\n",
    "        \n",
    "        # Compute the loss\n",
    "        loss = criterion(outputs, labels)  # Compute loss\n",
    "        \n",
    "        # Backward pass and optimization\n",
    "        loss.backward()\n",
    "        optimizer.step()\n",
    "        \n",
    "        # Track the running loss\n",
    "        running_loss += loss.item()\n",
    "        \n",
    "        # Calculate accuracy\n",
    "        predicted = (outputs > 0.5).float()  # Predicted class: 1 if output > 0.5, else 0\n",
    "        correct += (predicted == labels).sum().item()\n",
    "        total += labels.size(0)\n",
    "    \n",
    "    # Average loss and accuracy for the epoch\n",
    "    avg_loss = running_loss / len(train_loader)\n",
    "    accuracy = 100 * correct / total\n",
    "    print(f\"Train Loss: {avg_loss:.4f}, Accuracy: {accuracy:.2f}%\")\n",
    "    \n",
    "    # Validation loop (using the separate test dataset)\n",
    "    model.eval()  # Set model to evaluation mode\n",
    "    val_loss = 0.0\n",
    "    correct = 0\n",
    "    total = 0\n",
    "    with torch.no_grad():  # Disable gradient computation during validation\n",
    "        for batch in test_loader:\n",
    "            images = batch['image'].to(device)\n",
    "            labels = batch['label'].to(device)\n",
    "            \n",
    "            outputs = model(images).squeeze()  # Forward pass through the model\n",
    "            loss = criterion(outputs, labels)  # Compute validation loss\n",
    "            val_loss += loss.item()\n",
    "            \n",
    "            # Calculate validation accuracy\n",
    "            predicted = (outputs > 0.5).float()\n",
    "            correct += (predicted == labels).sum().item()\n",
    "            total += labels.size(0)\n",
    "    \n",
    "    # Average validation loss and accuracy\n",
    "    avg_val_loss = val_loss / len(test_loader)\n",
    "    val_accuracy = 100 * correct / total\n",
    "    print(f\"Validation Loss: {avg_val_loss:.4f}, Accuracy: {val_accuracy:.2f}%\")\n",
    "\n",
    "    # Save model after each epoch\n",
    "    torch.save(model.state_dict(), f'Resnet18False_model_epoch_{epoch+1}.pth')\n",
    "    print(f\"Model saved: model_epoch_{epoch+1}.pth\")\n",
    "\n",
    "# # Save model after all epochs\n",
    "# torch.save(model.state_dict(), 'final_model.pth')\n",
    "\n"
   ]
  },
  {
   "cell_type": "code",
   "execution_count": null,
   "id": "19b9bb45-dbab-4ff3-b7c4-a4cbd09a3e4a",
   "metadata": {},
   "outputs": [],
   "source": []
  }
 ],
 "metadata": {
  "kernelspec": {
   "display_name": "Python 3 (ipykernel)",
   "language": "python",
   "name": "python3"
  },
  "language_info": {
   "codemirror_mode": {
    "name": "ipython",
    "version": 3
   },
   "file_extension": ".py",
   "mimetype": "text/x-python",
   "name": "python",
   "nbconvert_exporter": "python",
   "pygments_lexer": "ipython3",
   "version": "3.10.15"
  }
 },
 "nbformat": 4,
 "nbformat_minor": 5
}
