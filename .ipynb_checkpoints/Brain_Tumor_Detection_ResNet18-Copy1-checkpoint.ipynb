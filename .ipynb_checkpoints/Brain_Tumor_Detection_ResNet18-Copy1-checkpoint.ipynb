{
 "cells": [
  {
   "cell_type": "code",
   "execution_count": 1,
   "id": "a1b9291f-f6be-43cc-ad62-11f965a4fb9a",
   "metadata": {},
   "outputs": [],
   "source": [
    "import torch\n",
    "import numpy as np\n",
    "import cv2\n",
    "import os\n",
    "from torch.utils.data import Dataset, DataLoader\n",
    "import matplotlib.pyplot as plt\n",
    "from torchvision.models import resnet18\n",
    "from sklearn.model_selection import train_test_split\n",
    "from tqdm import tqdm  # For showing progress bar\n",
    "import torch.nn as nn\n",
    "import torch.optim as optim\n",
    "import torch.nn.functional as F"
   ]
  },
  {
   "cell_type": "code",
   "execution_count": 2,
   "id": "0fdf02e5-0682-4f80-a46f-366ae8ff0c22",
   "metadata": {},
   "outputs": [],
   "source": [
    "class Dataset(object):\n",
    "    \n",
    "    \n",
    "    def __getitem__(self, index):\n",
    "        raise NotImplementedError\n",
    "        \n",
    "    def __len__(self):\n",
    "        raise NotImplementedError\n",
    "        \n",
    "    def __add__(self, other):\n",
    "        return ConcatDataset([self,other])"
   ]
  },
  {
   "cell_type": "code",
   "execution_count": 3,
   "id": "046e247b-bcfa-4297-bb5d-b79e1fd3fdd1",
   "metadata": {},
   "outputs": [],
   "source": [
    "# Define MRI Dataset\n",
    "class MRI_Dataset(Dataset):\n",
    "    def __init__(self, tumor_dir, healthy_dir, image_size=(224, 224)):\n",
    "        self.images = []\n",
    "        self.labels = []\n",
    "        self.image_size = image_size\n",
    "\n",
    "        # Load tumor images\n",
    "        for filename in os.listdir(tumor_dir):\n",
    "            img = cv2.imread(os.path.join(tumor_dir, filename))\n",
    "            if img is not None:\n",
    "                img = cv2.resize(img, self.image_size)\n",
    "                img = cv2.cvtColor(img, cv2.COLOR_BGR2RGB)  # Convert BGR to RGB\n",
    "                self.images.append(img)\n",
    "                self.labels.append(1)  # Tumor = 1\n",
    "\n",
    "        # Load healthy images\n",
    "        for filename in os.listdir(healthy_dir):\n",
    "            img = cv2.imread(os.path.join(healthy_dir, filename))\n",
    "            if img is not None:\n",
    "                img = cv2.resize(img, self.image_size)\n",
    "                img = cv2.cvtColor(img, cv2.COLOR_BGR2RGB)\n",
    "                self.images.append(img)\n",
    "                self.labels.append(0)  # Healthy = 0\n",
    "\n",
    "        self.images = np.array(self.images)\n",
    "        self.labels = np.array(self.labels)\n",
    "\n",
    "    def __len__(self):\n",
    "        return len(self.images)\n",
    "\n",
    "    def __getitem__(self, idx):\n",
    "        image = self.images[idx].astype(np.float32) / 255.0  # Normalize\n",
    "        label = self.labels[idx]\n",
    "        return {'image': torch.tensor(image).permute(2, 0, 1), 'label': torch.tensor(label, dtype=torch.float32)}"
   ]
  },
  {
   "cell_type": "code",
   "execution_count": 4,
   "id": "5b588574-0dbd-4745-aacd-df07c2bf8584",
   "metadata": {},
   "outputs": [],
   "source": [
    "# Load dataset paths\n",
    "train_tumor_dir = './Dataset/Training/aug_tumor'\n",
    "train_healthy_dir = './Dataset/Training/aug_notumor'\n",
    "test_tumor_dir = './Dataset/Testing/aug_tumor'  # Separate testing directory\n",
    "test_healthy_dir = './Dataset/Testing/aug_notumor'  # Separate testing directory\n",
    "\n",
    "# Create Dataset and DataLoader for training\n",
    "train_dataset = MRI_Dataset(train_tumor_dir, train_healthy_dir)\n",
    "train_loader = DataLoader(train_dataset, batch_size=32, shuffle=True)\n",
    "\n",
    "# Create Dataset and DataLoader for testing\n",
    "test_dataset = MRI_Dataset(test_tumor_dir, test_healthy_dir)\n",
    "test_loader = DataLoader(test_dataset, batch_size=32, shuffle=False)"
   ]
  },
  {
   "cell_type": "code",
   "execution_count": 5,
   "id": "40830734-6269-4305-ba37-c423a23071d2",
   "metadata": {},
   "outputs": [],
   "source": [
    "# Define device (GPU if available, otherwise CPU)\n",
    "device = torch.device('cuda' if torch.cuda.is_available() else 'cpu')"
   ]
  },
  {
   "cell_type": "code",
   "execution_count": 6,
   "id": "d73c6fdb-0327-4458-9ab7-8db547e1bc7c",
   "metadata": {},
   "outputs": [
    {
     "name": "stderr",
     "output_type": "stream",
     "text": [
      "C:\\Users\\Omkar Choughule\\anaconda3\\envs\\Py310\\lib\\site-packages\\torchvision\\models\\_utils.py:208: UserWarning: The parameter 'pretrained' is deprecated since 0.13 and may be removed in the future, please use 'weights' instead.\n",
      "  warnings.warn(\n",
      "C:\\Users\\Omkar Choughule\\anaconda3\\envs\\Py310\\lib\\site-packages\\torchvision\\models\\_utils.py:223: UserWarning: Arguments other than a weight enum or `None` for 'weights' are deprecated since 0.13 and may be removed in the future. The current behavior is equivalent to passing `weights=ResNet18_Weights.IMAGENET1K_V1`. You can also use `weights=ResNet18_Weights.DEFAULT` to get the most up-to-date weights.\n",
      "  warnings.warn(msg)\n",
      "Downloading: \"https://download.pytorch.org/models/resnet18-f37072fd.pth\" to C:\\Users\\Omkar Choughule/.cache\\torch\\hub\\checkpoints\\resnet18-f37072fd.pth\n",
      "100%|█████████████████████████████████████████████████████████████████████████████| 44.7M/44.7M [00:33<00:00, 1.42MB/s]\n"
     ]
    }
   ],
   "source": [
    "# Load pre-trained ResNet18\n",
    "model = resnet18(pretrained=True)\n",
    "num_features = model.fc.in_features\n",
    "model.fc = nn.Sequential(\n",
    "    nn.Linear(num_features, 1),  # Binary classification\n",
    "    nn.Sigmoid()  # Sigmoid for output probabilities\n",
    ")"
   ]
  },
  {
   "cell_type": "code",
   "execution_count": 7,
   "id": "6ad0253b-0e54-42b8-b7ad-dcf536eca663",
   "metadata": {},
   "outputs": [],
   "source": [
    "# Initialize model\n",
    "model = model.to(device)"
   ]
  },
  {
   "cell_type": "code",
   "execution_count": 8,
   "id": "1a412b96-df65-4157-a4ab-a54286bded18",
   "metadata": {},
   "outputs": [],
   "source": [
    "# Define Loss function and Optimizer\n",
    "criterion = nn.BCELoss()  # Binary Cross Entropy Loss\n",
    "optimizer = optim.Adam(model.parameters(), lr=0.001)"
   ]
  },
  {
   "cell_type": "code",
   "execution_count": 9,
   "id": "2061182b-2a14-4087-ad50-2f078d1a17a2",
   "metadata": {},
   "outputs": [],
   "source": [
    "# Set number of epochs (adjust as needed)\n",
    "epochs = 30"
   ]
  },
  {
   "cell_type": "code",
   "execution_count": 10,
   "id": "92ade418-c0de-4498-a518-1ba5078321a6",
   "metadata": {},
   "outputs": [
    {
     "name": "stderr",
     "output_type": "stream",
     "text": [
      "Epoch 1/30: 100%|████████████████████████████████████████████████████████████████████| 399/399 [00:49<00:00,  8.02it/s]\n"
     ]
    },
    {
     "name": "stdout",
     "output_type": "stream",
     "text": [
      "Train Loss: 0.0898, Accuracy: 96.97%\n",
      "Validation Loss: 0.9816, Accuracy: 77.90%\n",
      "Model saved: model_epoch_1.pth\n"
     ]
    },
    {
     "name": "stderr",
     "output_type": "stream",
     "text": [
      "Epoch 2/30: 100%|████████████████████████████████████████████████████████████████████| 399/399 [00:46<00:00,  8.60it/s]\n"
     ]
    },
    {
     "name": "stdout",
     "output_type": "stream",
     "text": [
      "Train Loss: 0.0368, Accuracy: 98.68%\n",
      "Validation Loss: 0.0644, Accuracy: 98.15%\n",
      "Model saved: model_epoch_2.pth\n"
     ]
    },
    {
     "name": "stderr",
     "output_type": "stream",
     "text": [
      "Epoch 3/30: 100%|████████████████████████████████████████████████████████████████████| 399/399 [00:53<00:00,  7.46it/s]\n"
     ]
    },
    {
     "name": "stdout",
     "output_type": "stream",
     "text": [
      "Train Loss: 0.0523, Accuracy: 98.53%\n",
      "Validation Loss: 0.0400, Accuracy: 98.73%\n",
      "Model saved: model_epoch_3.pth\n"
     ]
    },
    {
     "name": "stderr",
     "output_type": "stream",
     "text": [
      "Epoch 4/30: 100%|████████████████████████████████████████████████████████████████████| 399/399 [00:49<00:00,  8.01it/s]\n"
     ]
    },
    {
     "name": "stdout",
     "output_type": "stream",
     "text": [
      "Train Loss: 0.0168, Accuracy: 99.43%\n",
      "Validation Loss: 0.0838, Accuracy: 97.31%\n",
      "Model saved: model_epoch_4.pth\n"
     ]
    },
    {
     "name": "stderr",
     "output_type": "stream",
     "text": [
      "Epoch 5/30: 100%|████████████████████████████████████████████████████████████████████| 399/399 [00:46<00:00,  8.65it/s]\n"
     ]
    },
    {
     "name": "stdout",
     "output_type": "stream",
     "text": [
      "Train Loss: 0.0175, Accuracy: 99.40%\n",
      "Validation Loss: 0.1309, Accuracy: 95.62%\n",
      "Model saved: model_epoch_5.pth\n"
     ]
    },
    {
     "name": "stderr",
     "output_type": "stream",
     "text": [
      "Epoch 6/30: 100%|████████████████████████████████████████████████████████████████████| 399/399 [00:46<00:00,  8.60it/s]\n"
     ]
    },
    {
     "name": "stdout",
     "output_type": "stream",
     "text": [
      "Train Loss: 0.0133, Accuracy: 99.62%\n",
      "Validation Loss: 0.1656, Accuracy: 96.33%\n",
      "Model saved: model_epoch_6.pth\n"
     ]
    },
    {
     "name": "stderr",
     "output_type": "stream",
     "text": [
      "Epoch 7/30: 100%|████████████████████████████████████████████████████████████████████| 399/399 [00:46<00:00,  8.61it/s]\n"
     ]
    },
    {
     "name": "stdout",
     "output_type": "stream",
     "text": [
      "Train Loss: 0.0233, Accuracy: 99.51%\n",
      "Validation Loss: 0.0349, Accuracy: 98.83%\n",
      "Model saved: model_epoch_7.pth\n"
     ]
    },
    {
     "name": "stderr",
     "output_type": "stream",
     "text": [
      "Epoch 8/30: 100%|████████████████████████████████████████████████████████████████████| 399/399 [00:46<00:00,  8.60it/s]\n"
     ]
    },
    {
     "name": "stdout",
     "output_type": "stream",
     "text": [
      "Train Loss: 0.0119, Accuracy: 99.54%\n",
      "Validation Loss: 0.0765, Accuracy: 97.99%\n",
      "Model saved: model_epoch_8.pth\n"
     ]
    },
    {
     "name": "stderr",
     "output_type": "stream",
     "text": [
      "Epoch 9/30: 100%|████████████████████████████████████████████████████████████████████| 399/399 [00:46<00:00,  8.62it/s]\n"
     ]
    },
    {
     "name": "stdout",
     "output_type": "stream",
     "text": [
      "Train Loss: 0.0163, Accuracy: 99.50%\n",
      "Validation Loss: 0.0379, Accuracy: 98.86%\n",
      "Model saved: model_epoch_9.pth\n"
     ]
    },
    {
     "name": "stderr",
     "output_type": "stream",
     "text": [
      "Epoch 10/30: 100%|███████████████████████████████████████████████████████████████████| 399/399 [00:46<00:00,  8.65it/s]\n"
     ]
    },
    {
     "name": "stdout",
     "output_type": "stream",
     "text": [
      "Train Loss: 0.0104, Accuracy: 99.71%\n",
      "Validation Loss: 0.0365, Accuracy: 98.70%\n",
      "Model saved: model_epoch_10.pth\n"
     ]
    },
    {
     "name": "stderr",
     "output_type": "stream",
     "text": [
      "Epoch 11/30: 100%|███████████████████████████████████████████████████████████████████| 399/399 [00:46<00:00,  8.67it/s]\n"
     ]
    },
    {
     "name": "stdout",
     "output_type": "stream",
     "text": [
      "Train Loss: 0.0069, Accuracy: 99.76%\n",
      "Validation Loss: 0.0979, Accuracy: 97.19%\n",
      "Model saved: model_epoch_11.pth\n"
     ]
    },
    {
     "name": "stderr",
     "output_type": "stream",
     "text": [
      "Epoch 12/30: 100%|███████████████████████████████████████████████████████████████████| 399/399 [00:46<00:00,  8.64it/s]\n"
     ]
    },
    {
     "name": "stdout",
     "output_type": "stream",
     "text": [
      "Train Loss: 0.0105, Accuracy: 99.73%\n",
      "Validation Loss: 0.1305, Accuracy: 95.25%\n",
      "Model saved: model_epoch_12.pth\n"
     ]
    },
    {
     "name": "stderr",
     "output_type": "stream",
     "text": [
      "Epoch 13/30: 100%|███████████████████████████████████████████████████████████████████| 399/399 [00:46<00:00,  8.63it/s]\n"
     ]
    },
    {
     "name": "stdout",
     "output_type": "stream",
     "text": [
      "Train Loss: 0.0116, Accuracy: 99.55%\n",
      "Validation Loss: 0.0626, Accuracy: 98.24%\n",
      "Model saved: model_epoch_13.pth\n"
     ]
    },
    {
     "name": "stderr",
     "output_type": "stream",
     "text": [
      "Epoch 14/30: 100%|███████████████████████████████████████████████████████████████████| 399/399 [00:46<00:00,  8.62it/s]\n"
     ]
    },
    {
     "name": "stdout",
     "output_type": "stream",
     "text": [
      "Train Loss: 0.0052, Accuracy: 99.84%\n",
      "Validation Loss: 0.0139, Accuracy: 99.54%\n",
      "Model saved: model_epoch_14.pth\n"
     ]
    },
    {
     "name": "stderr",
     "output_type": "stream",
     "text": [
      "Epoch 15/30: 100%|███████████████████████████████████████████████████████████████████| 399/399 [00:46<00:00,  8.61it/s]\n"
     ]
    },
    {
     "name": "stdout",
     "output_type": "stream",
     "text": [
      "Train Loss: 0.0002, Accuracy: 100.00%\n",
      "Validation Loss: 0.0251, Accuracy: 99.41%\n",
      "Model saved: model_epoch_15.pth\n"
     ]
    },
    {
     "name": "stderr",
     "output_type": "stream",
     "text": [
      "Epoch 16/30: 100%|███████████████████████████████████████████████████████████████████| 399/399 [00:46<00:00,  8.62it/s]\n"
     ]
    },
    {
     "name": "stdout",
     "output_type": "stream",
     "text": [
      "Train Loss: 0.0001, Accuracy: 100.00%\n",
      "Validation Loss: 0.0166, Accuracy: 99.57%\n",
      "Model saved: model_epoch_16.pth\n"
     ]
    },
    {
     "name": "stderr",
     "output_type": "stream",
     "text": [
      "Epoch 17/30: 100%|███████████████████████████████████████████████████████████████████| 399/399 [00:46<00:00,  8.66it/s]\n"
     ]
    },
    {
     "name": "stdout",
     "output_type": "stream",
     "text": [
      "Train Loss: 0.0000, Accuracy: 100.00%\n",
      "Validation Loss: 0.0225, Accuracy: 99.57%\n",
      "Model saved: model_epoch_17.pth\n"
     ]
    },
    {
     "name": "stderr",
     "output_type": "stream",
     "text": [
      "Epoch 18/30: 100%|███████████████████████████████████████████████████████████████████| 399/399 [00:46<00:00,  8.65it/s]\n"
     ]
    },
    {
     "name": "stdout",
     "output_type": "stream",
     "text": [
      "Train Loss: 0.0000, Accuracy: 100.00%\n",
      "Validation Loss: 0.0229, Accuracy: 99.57%\n",
      "Model saved: model_epoch_18.pth\n"
     ]
    },
    {
     "name": "stderr",
     "output_type": "stream",
     "text": [
      "Epoch 19/30: 100%|███████████████████████████████████████████████████████████████████| 399/399 [00:46<00:00,  8.64it/s]\n"
     ]
    },
    {
     "name": "stdout",
     "output_type": "stream",
     "text": [
      "Train Loss: 0.0000, Accuracy: 100.00%\n",
      "Validation Loss: 0.0254, Accuracy: 99.57%\n",
      "Model saved: model_epoch_19.pth\n"
     ]
    },
    {
     "name": "stderr",
     "output_type": "stream",
     "text": [
      "Epoch 20/30: 100%|███████████████████████████████████████████████████████████████████| 399/399 [00:46<00:00,  8.65it/s]\n"
     ]
    },
    {
     "name": "stdout",
     "output_type": "stream",
     "text": [
      "Train Loss: 0.0285, Accuracy: 99.13%\n",
      "Validation Loss: 0.1069, Accuracy: 95.80%\n",
      "Model saved: model_epoch_20.pth\n"
     ]
    },
    {
     "name": "stderr",
     "output_type": "stream",
     "text": [
      "Epoch 21/30: 100%|███████████████████████████████████████████████████████████████████| 399/399 [00:46<00:00,  8.61it/s]\n"
     ]
    },
    {
     "name": "stdout",
     "output_type": "stream",
     "text": [
      "Train Loss: 0.0110, Accuracy: 99.63%\n",
      "Validation Loss: 0.1526, Accuracy: 94.91%\n",
      "Model saved: model_epoch_21.pth\n"
     ]
    },
    {
     "name": "stderr",
     "output_type": "stream",
     "text": [
      "Epoch 22/30: 100%|███████████████████████████████████████████████████████████████████| 399/399 [00:47<00:00,  8.46it/s]\n"
     ]
    },
    {
     "name": "stdout",
     "output_type": "stream",
     "text": [
      "Train Loss: 0.0075, Accuracy: 99.74%\n",
      "Validation Loss: 0.0409, Accuracy: 98.92%\n",
      "Model saved: model_epoch_22.pth\n"
     ]
    },
    {
     "name": "stderr",
     "output_type": "stream",
     "text": [
      "Epoch 23/30: 100%|███████████████████████████████████████████████████████████████████| 399/399 [00:48<00:00,  8.23it/s]\n"
     ]
    },
    {
     "name": "stdout",
     "output_type": "stream",
     "text": [
      "Train Loss: 0.0037, Accuracy: 99.87%\n",
      "Validation Loss: 0.2549, Accuracy: 92.96%\n",
      "Model saved: model_epoch_23.pth\n"
     ]
    },
    {
     "name": "stderr",
     "output_type": "stream",
     "text": [
      "Epoch 24/30: 100%|███████████████████████████████████████████████████████████████████| 399/399 [00:47<00:00,  8.34it/s]\n"
     ]
    },
    {
     "name": "stdout",
     "output_type": "stream",
     "text": [
      "Train Loss: 0.0106, Accuracy: 99.65%\n",
      "Validation Loss: 0.0395, Accuracy: 98.89%\n",
      "Model saved: model_epoch_24.pth\n"
     ]
    },
    {
     "name": "stderr",
     "output_type": "stream",
     "text": [
      "Epoch 25/30: 100%|███████████████████████████████████████████████████████████████████| 399/399 [00:47<00:00,  8.41it/s]\n"
     ]
    },
    {
     "name": "stdout",
     "output_type": "stream",
     "text": [
      "Train Loss: 0.0032, Accuracy: 99.91%\n",
      "Validation Loss: 0.0240, Accuracy: 99.35%\n",
      "Model saved: model_epoch_25.pth\n"
     ]
    },
    {
     "name": "stderr",
     "output_type": "stream",
     "text": [
      "Epoch 26/30: 100%|███████████████████████████████████████████████████████████████████| 399/399 [00:47<00:00,  8.35it/s]\n"
     ]
    },
    {
     "name": "stdout",
     "output_type": "stream",
     "text": [
      "Train Loss: 0.0040, Accuracy: 99.88%\n",
      "Validation Loss: 0.0657, Accuracy: 97.87%\n",
      "Model saved: model_epoch_26.pth\n"
     ]
    },
    {
     "name": "stderr",
     "output_type": "stream",
     "text": [
      "Epoch 27/30: 100%|███████████████████████████████████████████████████████████████████| 399/399 [00:48<00:00,  8.26it/s]\n"
     ]
    },
    {
     "name": "stdout",
     "output_type": "stream",
     "text": [
      "Train Loss: 0.0045, Accuracy: 99.90%\n",
      "Validation Loss: 0.0088, Accuracy: 99.63%\n",
      "Model saved: model_epoch_27.pth\n"
     ]
    },
    {
     "name": "stderr",
     "output_type": "stream",
     "text": [
      "Epoch 28/30: 100%|███████████████████████████████████████████████████████████████████| 399/399 [00:48<00:00,  8.24it/s]\n"
     ]
    },
    {
     "name": "stdout",
     "output_type": "stream",
     "text": [
      "Train Loss: 0.0004, Accuracy: 99.99%\n",
      "Validation Loss: 0.0162, Accuracy: 99.57%\n",
      "Model saved: model_epoch_28.pth\n"
     ]
    },
    {
     "name": "stderr",
     "output_type": "stream",
     "text": [
      "Epoch 29/30: 100%|███████████████████████████████████████████████████████████████████| 399/399 [00:48<00:00,  8.30it/s]\n"
     ]
    },
    {
     "name": "stdout",
     "output_type": "stream",
     "text": [
      "Train Loss: 0.0001, Accuracy: 100.00%\n",
      "Validation Loss: 0.0148, Accuracy: 99.63%\n",
      "Model saved: model_epoch_29.pth\n"
     ]
    },
    {
     "name": "stderr",
     "output_type": "stream",
     "text": [
      "Epoch 30/30: 100%|███████████████████████████████████████████████████████████████████| 399/399 [00:47<00:00,  8.36it/s]\n"
     ]
    },
    {
     "name": "stdout",
     "output_type": "stream",
     "text": [
      "Train Loss: 0.0001, Accuracy: 100.00%\n",
      "Validation Loss: 0.0195, Accuracy: 99.57%\n",
      "Model saved: model_epoch_30.pth\n"
     ]
    }
   ],
   "source": [
    "# Training loop\n",
    "for epoch in range(epochs):\n",
    "    model.train()  # Set model to training mode\n",
    "    running_loss = 0.0\n",
    "    correct = 0\n",
    "    total = 0\n",
    "    for batch in tqdm(train_loader, desc=f\"Epoch {epoch+1}/{epochs}\"):\n",
    "        images = batch['image'].to(device)\n",
    "        labels = batch['label'].to(device)\n",
    "        \n",
    "        optimizer.zero_grad()  # Zero the gradients before backprop\n",
    "        \n",
    "        # Forward pass\n",
    "        outputs = model(images).squeeze()  # Forward pass through the network\n",
    "        \n",
    "        # Compute the loss\n",
    "        loss = criterion(outputs, labels)  # Compute loss\n",
    "        \n",
    "        # Backward pass and optimization\n",
    "        loss.backward()\n",
    "        optimizer.step()\n",
    "        \n",
    "        # Track the running loss\n",
    "        running_loss += loss.item()\n",
    "        \n",
    "        # Calculate accuracy\n",
    "        predicted = (outputs > 0.5).float()  # Predicted class: 1 if output > 0.5, else 0\n",
    "        correct += (predicted == labels).sum().item()\n",
    "        total += labels.size(0)\n",
    "    \n",
    "    # Average loss and accuracy for the epoch\n",
    "    avg_loss = running_loss / len(train_loader)\n",
    "    accuracy = 100 * correct / total\n",
    "    print(f\"Train Loss: {avg_loss:.4f}, Accuracy: {accuracy:.2f}%\")\n",
    "    \n",
    "    # Validation loop (using the separate test dataset)\n",
    "    model.eval()  # Set model to evaluation mode\n",
    "    val_loss = 0.0\n",
    "    correct = 0\n",
    "    total = 0\n",
    "    with torch.no_grad():  # Disable gradient computation during validation\n",
    "        for batch in test_loader:\n",
    "            images = batch['image'].to(device)\n",
    "            labels = batch['label'].to(device)\n",
    "            \n",
    "            outputs = model(images).squeeze()  # Forward pass through the model\n",
    "            loss = criterion(outputs, labels)  # Compute validation loss\n",
    "            val_loss += loss.item()\n",
    "            \n",
    "            # Calculate validation accuracy\n",
    "            predicted = (outputs > 0.5).float()\n",
    "            correct += (predicted == labels).sum().item()\n",
    "            total += labels.size(0)\n",
    "    \n",
    "    # Average validation loss and accuracy\n",
    "    avg_val_loss = val_loss / len(test_loader)\n",
    "    val_accuracy = 100 * correct / total\n",
    "    print(f\"Validation Loss: {avg_val_loss:.4f}, Accuracy: {val_accuracy:.2f}%\")\n",
    "\n",
    "    # Save model after each epoch\n",
    "    torch.save(model.state_dict(), f'Resnet18_model_epoch_{epoch+1}.pth')\n",
    "    print(f\"Model saved: model_epoch_{epoch+1}.pth\")"
   ]
  },
  {
   "cell_type": "code",
   "execution_count": 41,
   "id": "cb3072de-cab3-4cb4-9b6a-8d43cf88d987",
   "metadata": {},
   "outputs": [],
   "source": [
    "# # Save model after all epochs\n",
    "# torch.save(model.state_dict(), 'final_model.pth')"
   ]
  },
  {
   "cell_type": "code",
   "execution_count": null,
   "id": "a33b3526-1889-4d00-a02a-91fe9e267981",
   "metadata": {},
   "outputs": [],
   "source": []
  }
 ],
 "metadata": {
  "kernelspec": {
   "display_name": "Python 3 (ipykernel)",
   "language": "python",
   "name": "python3"
  },
  "language_info": {
   "codemirror_mode": {
    "name": "ipython",
    "version": 3
   },
   "file_extension": ".py",
   "mimetype": "text/x-python",
   "name": "python",
   "nbconvert_exporter": "python",
   "pygments_lexer": "ipython3",
   "version": "3.10.15"
  }
 },
 "nbformat": 4,
 "nbformat_minor": 5
}
