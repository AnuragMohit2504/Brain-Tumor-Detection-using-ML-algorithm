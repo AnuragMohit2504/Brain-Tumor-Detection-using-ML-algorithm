{
 "cells": [
  {
   "cell_type": "code",
   "execution_count": 31,
   "id": "a1b9291f-f6be-43cc-ad62-11f965a4fb9a",
   "metadata": {},
   "outputs": [],
   "source": [
    "import torch\n",
    "import numpy as np\n",
    "import cv2\n",
    "import os\n",
    "from torch.utils.data import Dataset, DataLoader\n",
    "import matplotlib.pyplot as plt\n",
    "from sklearn.model_selection import train_test_split\n",
    "from tqdm import tqdm  # For showing progress bar\n",
    "import torch.nn as nn\n",
    "import torch.optim as optim\n",
    "import torch.nn.functional as F"
   ]
  },
  {
   "cell_type": "code",
   "execution_count": 32,
   "id": "0fdf02e5-0682-4f80-a46f-366ae8ff0c22",
   "metadata": {},
   "outputs": [],
   "source": [
    "class Dataset(object):\n",
    "    \n",
    "    \n",
    "    def __getitem__(self, index):\n",
    "        raise NotImplementedError\n",
    "        \n",
    "    def __len__(self):\n",
    "        raise NotImplementedError\n",
    "        \n",
    "    def __add__(self, other):\n",
    "        return ConcatDataset([self,other])"
   ]
  },
  {
   "cell_type": "code",
   "execution_count": 33,
   "id": "046e247b-bcfa-4297-bb5d-b79e1fd3fdd1",
   "metadata": {},
   "outputs": [],
   "source": [
    "class MRI_Dataset(Dataset):\n",
    "    def __init__(self, tumor_dir, healthy_dir, image_size=(128, 128)):\n",
    "        self.tumor_images = []\n",
    "        self.healthy_images = []\n",
    "        self.labels = []\n",
    "        \n",
    "        self.image_size = image_size\n",
    "        \n",
    "        # Load tumor images\n",
    "        for filename in os.listdir(tumor_dir):\n",
    "            img = cv2.imread(os.path.join(tumor_dir, filename))\n",
    "            img = cv2.resize(img, self.image_size)\n",
    "            b, g, r = cv2.split(img)\n",
    "            img = cv2.merge([r, g, b])  # Convert from BGR to RGB\n",
    "            self.tumor_images.append(img)\n",
    "            self.labels.append(1)  # Tumor = 1\n",
    "        \n",
    "        # Load healthy images\n",
    "        for filename in os.listdir(healthy_dir):\n",
    "            img = cv2.imread(os.path.join(healthy_dir, filename))\n",
    "            img = cv2.resize(img, self.image_size)\n",
    "            b, g, r = cv2.split(img)\n",
    "            img = cv2.merge([r, g, b])  # Convert from BGR to RGB\n",
    "            self.healthy_images.append(img)\n",
    "            self.labels.append(0)  # Healthy = 0\n",
    "        \n",
    "        self.images = np.array(self.tumor_images + self.healthy_images)\n",
    "        self.labels = np.array(self.labels)\n",
    "\n",
    "    def __len__(self):\n",
    "        return len(self.images)\n",
    "\n",
    "    def __getitem__(self, idx):\n",
    "        image = self.images[idx].astype(np.float32) / 255.0  # Normalize\n",
    "        label = self.labels[idx]\n",
    "        return {'image': torch.tensor(image).permute(2, 0, 1), 'label': torch.tensor(label, dtype=torch.float32)}\n"
   ]
  },
  {
   "cell_type": "code",
   "execution_count": 34,
   "id": "5b588574-0dbd-4745-aacd-df07c2bf8584",
   "metadata": {},
   "outputs": [],
   "source": [
    "# Load dataset paths\n",
    "train_tumor_dir = './Dataset/Training/aug_tumor'\n",
    "train_healthy_dir = './Dataset/Training/aug_notumor'\n",
    "test_tumor_dir = './Dataset/Testing/aug_tumor'  # Separate testing directory\n",
    "test_healthy_dir = './Dataset/Testing/aug_notumor'  # Separate testing directory\n",
    "\n",
    "# Create Dataset and DataLoader for training\n",
    "train_dataset = MRI_Dataset(train_tumor_dir, train_healthy_dir)\n",
    "train_loader = DataLoader(train_dataset, batch_size=32, shuffle=True)\n",
    "\n",
    "# Create Dataset and DataLoader for testing\n",
    "test_dataset = MRI_Dataset(test_tumor_dir, test_healthy_dir)\n",
    "test_loader = DataLoader(test_dataset, batch_size=32, shuffle=False)"
   ]
  },
  {
   "cell_type": "code",
   "execution_count": 35,
   "id": "d73c6fdb-0327-4458-9ab7-8db547e1bc7c",
   "metadata": {},
   "outputs": [],
   "source": [
    "# Define the CNN model\n",
    "class CNN(nn.Module):\n",
    "    def __init__(self):\n",
    "        super(CNN, self).__init__()\n",
    "        self.conv1 = nn.Conv2d(3, 32, kernel_size=3, padding=1)\n",
    "        self.conv2 = nn.Conv2d(32, 64, kernel_size=3, padding=1)\n",
    "        self.conv3 = nn.Conv2d(64, 128, kernel_size=3, padding=1)\n",
    "        self.conv4 = nn.Conv2d(128, 256, kernel_size=3, padding=1)\n",
    "\n",
    "        self.pool = nn.MaxPool2d(2, 2)\n",
    "        self.fc1 = nn.Linear(256 * 8 * 8, 512)\n",
    "        self.fc2 = nn.Linear(512, 1)  # Binary classification\n",
    "        \n",
    "        self.dropout = nn.Dropout(0.5)  # Dropout to prevent overfitting\n",
    "\n",
    "    def forward(self, x):\n",
    "        x = self.pool(F.relu(self.conv1(x)))\n",
    "        x = self.pool(F.relu(self.conv2(x)))\n",
    "        x = self.pool(F.relu(self.conv3(x)))\n",
    "        x = self.pool(F.relu(self.conv4(x)))\n",
    "\n",
    "        x = x.view(-1, 256 * 8 * 8)  # Flatten the output\n",
    "        x = F.relu(self.fc1(x))\n",
    "        x = self.dropout(x)  # Apply dropout\n",
    "        x = torch.sigmoid(self.fc2(x))  # Sigmoid for binary classification\n",
    "        return x"
   ]
  },
  {
   "cell_type": "code",
   "execution_count": 36,
   "id": "40830734-6269-4305-ba37-c423a23071d2",
   "metadata": {},
   "outputs": [],
   "source": [
    "# Define device (GPU if available, otherwise CPU)\n",
    "device = torch.device('cuda' if torch.cuda.is_available() else 'cpu')"
   ]
  },
  {
   "cell_type": "code",
   "execution_count": 37,
   "id": "6ad0253b-0e54-42b8-b7ad-dcf536eca663",
   "metadata": {},
   "outputs": [],
   "source": [
    "# Initialize model\n",
    "model = CNN().to(device)"
   ]
  },
  {
   "cell_type": "code",
   "execution_count": 38,
   "id": "1a412b96-df65-4157-a4ab-a54286bded18",
   "metadata": {},
   "outputs": [],
   "source": [
    "# Define Loss function and Optimizer\n",
    "criterion = nn.BCELoss()  # Binary Cross Entropy Loss\n",
    "optimizer = optim.Adam(model.parameters(), lr=0.001)"
   ]
  },
  {
   "cell_type": "code",
   "execution_count": 39,
   "id": "2061182b-2a14-4087-ad50-2f078d1a17a2",
   "metadata": {},
   "outputs": [],
   "source": [
    "# Set number of epochs (adjust as needed)\n",
    "epochs = 30"
   ]
  },
  {
   "cell_type": "code",
   "execution_count": 40,
   "id": "92ade418-c0de-4498-a518-1ba5078321a6",
   "metadata": {},
   "outputs": [
    {
     "name": "stderr",
     "output_type": "stream",
     "text": [
      "Epoch 1/30: 100%|████████████████████████████████████████████████████████████████████| 399/399 [00:14<00:00, 27.64it/s]\n"
     ]
    },
    {
     "name": "stdout",
     "output_type": "stream",
     "text": [
      "Train Loss: 0.2338, Accuracy: 91.07%\n",
      "Validation Loss: 0.2304, Accuracy: 91.23%\n"
     ]
    },
    {
     "name": "stderr",
     "output_type": "stream",
     "text": [
      "Epoch 2/30: 100%|████████████████████████████████████████████████████████████████████| 399/399 [00:13<00:00, 30.56it/s]\n"
     ]
    },
    {
     "name": "stdout",
     "output_type": "stream",
     "text": [
      "Train Loss: 0.1123, Accuracy: 96.41%\n",
      "Validation Loss: 0.2599, Accuracy: 93.64%\n"
     ]
    },
    {
     "name": "stderr",
     "output_type": "stream",
     "text": [
      "Epoch 3/30: 100%|████████████████████████████████████████████████████████████████████| 399/399 [00:13<00:00, 30.55it/s]\n"
     ]
    },
    {
     "name": "stdout",
     "output_type": "stream",
     "text": [
      "Train Loss: 0.0834, Accuracy: 97.23%\n",
      "Validation Loss: 0.1509, Accuracy: 94.17%\n"
     ]
    },
    {
     "name": "stderr",
     "output_type": "stream",
     "text": [
      "Epoch 4/30: 100%|████████████████████████████████████████████████████████████████████| 399/399 [00:13<00:00, 30.44it/s]\n"
     ]
    },
    {
     "name": "stdout",
     "output_type": "stream",
     "text": [
      "Train Loss: 0.0629, Accuracy: 97.82%\n",
      "Validation Loss: 0.1009, Accuracy: 96.36%\n"
     ]
    },
    {
     "name": "stderr",
     "output_type": "stream",
     "text": [
      "Epoch 5/30: 100%|████████████████████████████████████████████████████████████████████| 399/399 [00:13<00:00, 30.49it/s]\n"
     ]
    },
    {
     "name": "stdout",
     "output_type": "stream",
     "text": [
      "Train Loss: 0.0411, Accuracy: 98.68%\n",
      "Validation Loss: 0.1180, Accuracy: 95.99%\n"
     ]
    },
    {
     "name": "stderr",
     "output_type": "stream",
     "text": [
      "Epoch 6/30: 100%|████████████████████████████████████████████████████████████████████| 399/399 [00:13<00:00, 30.20it/s]\n"
     ]
    },
    {
     "name": "stdout",
     "output_type": "stream",
     "text": [
      "Train Loss: 0.0341, Accuracy: 98.79%\n",
      "Validation Loss: 0.0726, Accuracy: 97.38%\n"
     ]
    },
    {
     "name": "stderr",
     "output_type": "stream",
     "text": [
      "Epoch 7/30: 100%|████████████████████████████████████████████████████████████████████| 399/399 [00:13<00:00, 30.26it/s]\n"
     ]
    },
    {
     "name": "stdout",
     "output_type": "stream",
     "text": [
      "Train Loss: 0.0292, Accuracy: 99.03%\n",
      "Validation Loss: 0.0814, Accuracy: 96.79%\n"
     ]
    },
    {
     "name": "stderr",
     "output_type": "stream",
     "text": [
      "Epoch 8/30: 100%|████████████████████████████████████████████████████████████████████| 399/399 [00:13<00:00, 30.24it/s]\n"
     ]
    },
    {
     "name": "stdout",
     "output_type": "stream",
     "text": [
      "Train Loss: 0.0312, Accuracy: 99.00%\n",
      "Validation Loss: 0.0908, Accuracy: 97.59%\n"
     ]
    },
    {
     "name": "stderr",
     "output_type": "stream",
     "text": [
      "Epoch 9/30: 100%|████████████████████████████████████████████████████████████████████| 399/399 [00:13<00:00, 30.24it/s]\n"
     ]
    },
    {
     "name": "stdout",
     "output_type": "stream",
     "text": [
      "Train Loss: 0.0151, Accuracy: 99.43%\n",
      "Validation Loss: 0.1378, Accuracy: 96.94%\n"
     ]
    },
    {
     "name": "stderr",
     "output_type": "stream",
     "text": [
      "Epoch 10/30: 100%|███████████████████████████████████████████████████████████████████| 399/399 [00:13<00:00, 30.32it/s]\n"
     ]
    },
    {
     "name": "stdout",
     "output_type": "stream",
     "text": [
      "Train Loss: 0.0118, Accuracy: 99.62%\n",
      "Validation Loss: 0.0903, Accuracy: 97.72%\n"
     ]
    },
    {
     "name": "stderr",
     "output_type": "stream",
     "text": [
      "Epoch 11/30: 100%|███████████████████████████████████████████████████████████████████| 399/399 [00:13<00:00, 30.33it/s]\n"
     ]
    },
    {
     "name": "stdout",
     "output_type": "stream",
     "text": [
      "Train Loss: 0.0140, Accuracy: 99.55%\n",
      "Validation Loss: 0.0638, Accuracy: 98.77%\n"
     ]
    },
    {
     "name": "stderr",
     "output_type": "stream",
     "text": [
      "Epoch 12/30: 100%|███████████████████████████████████████████████████████████████████| 399/399 [00:13<00:00, 29.65it/s]\n"
     ]
    },
    {
     "name": "stdout",
     "output_type": "stream",
     "text": [
      "Train Loss: 0.0150, Accuracy: 99.51%\n",
      "Validation Loss: 0.1007, Accuracy: 97.41%\n"
     ]
    },
    {
     "name": "stderr",
     "output_type": "stream",
     "text": [
      "Epoch 13/30: 100%|███████████████████████████████████████████████████████████████████| 399/399 [00:13<00:00, 30.10it/s]\n"
     ]
    },
    {
     "name": "stdout",
     "output_type": "stream",
     "text": [
      "Train Loss: 0.0094, Accuracy: 99.66%\n",
      "Validation Loss: 0.0733, Accuracy: 98.49%\n"
     ]
    },
    {
     "name": "stderr",
     "output_type": "stream",
     "text": [
      "Epoch 14/30: 100%|███████████████████████████████████████████████████████████████████| 399/399 [00:13<00:00, 30.19it/s]\n"
     ]
    },
    {
     "name": "stdout",
     "output_type": "stream",
     "text": [
      "Train Loss: 0.0115, Accuracy: 99.63%\n",
      "Validation Loss: 0.0642, Accuracy: 98.43%\n"
     ]
    },
    {
     "name": "stderr",
     "output_type": "stream",
     "text": [
      "Epoch 15/30: 100%|███████████████████████████████████████████████████████████████████| 399/399 [00:13<00:00, 30.25it/s]\n"
     ]
    },
    {
     "name": "stdout",
     "output_type": "stream",
     "text": [
      "Train Loss: 0.0073, Accuracy: 99.72%\n",
      "Validation Loss: 0.0777, Accuracy: 98.02%\n"
     ]
    },
    {
     "name": "stderr",
     "output_type": "stream",
     "text": [
      "Epoch 16/30: 100%|███████████████████████████████████████████████████████████████████| 399/399 [00:13<00:00, 29.46it/s]\n"
     ]
    },
    {
     "name": "stdout",
     "output_type": "stream",
     "text": [
      "Train Loss: 0.0158, Accuracy: 99.54%\n",
      "Validation Loss: 0.0866, Accuracy: 98.24%\n"
     ]
    },
    {
     "name": "stderr",
     "output_type": "stream",
     "text": [
      "Epoch 17/30: 100%|███████████████████████████████████████████████████████████████████| 399/399 [00:13<00:00, 29.76it/s]\n"
     ]
    },
    {
     "name": "stdout",
     "output_type": "stream",
     "text": [
      "Train Loss: 0.0071, Accuracy: 99.76%\n",
      "Validation Loss: 0.1033, Accuracy: 98.27%\n"
     ]
    },
    {
     "name": "stderr",
     "output_type": "stream",
     "text": [
      "Epoch 18/30: 100%|███████████████████████████████████████████████████████████████████| 399/399 [00:13<00:00, 30.30it/s]\n"
     ]
    },
    {
     "name": "stdout",
     "output_type": "stream",
     "text": [
      "Train Loss: 0.0048, Accuracy: 99.86%\n",
      "Validation Loss: 0.1227, Accuracy: 97.44%\n"
     ]
    },
    {
     "name": "stderr",
     "output_type": "stream",
     "text": [
      "Epoch 19/30: 100%|███████████████████████████████████████████████████████████████████| 399/399 [00:13<00:00, 29.43it/s]\n"
     ]
    },
    {
     "name": "stdout",
     "output_type": "stream",
     "text": [
      "Train Loss: 0.0067, Accuracy: 99.79%\n",
      "Validation Loss: 0.1563, Accuracy: 97.93%\n"
     ]
    },
    {
     "name": "stderr",
     "output_type": "stream",
     "text": [
      "Epoch 20/30: 100%|███████████████████████████████████████████████████████████████████| 399/399 [00:13<00:00, 30.01it/s]\n"
     ]
    },
    {
     "name": "stdout",
     "output_type": "stream",
     "text": [
      "Train Loss: 0.0140, Accuracy: 99.60%\n",
      "Validation Loss: 0.0896, Accuracy: 98.21%\n"
     ]
    },
    {
     "name": "stderr",
     "output_type": "stream",
     "text": [
      "Epoch 21/30: 100%|███████████████████████████████████████████████████████████████████| 399/399 [00:13<00:00, 30.31it/s]\n"
     ]
    },
    {
     "name": "stdout",
     "output_type": "stream",
     "text": [
      "Train Loss: 0.0068, Accuracy: 99.79%\n",
      "Validation Loss: 0.1276, Accuracy: 97.59%\n"
     ]
    },
    {
     "name": "stderr",
     "output_type": "stream",
     "text": [
      "Epoch 22/30: 100%|███████████████████████████████████████████████████████████████████| 399/399 [00:13<00:00, 30.14it/s]\n"
     ]
    },
    {
     "name": "stdout",
     "output_type": "stream",
     "text": [
      "Train Loss: 0.0080, Accuracy: 99.77%\n",
      "Validation Loss: 0.0792, Accuracy: 98.46%\n"
     ]
    },
    {
     "name": "stderr",
     "output_type": "stream",
     "text": [
      "Epoch 23/30: 100%|███████████████████████████████████████████████████████████████████| 399/399 [00:13<00:00, 30.30it/s]\n"
     ]
    },
    {
     "name": "stdout",
     "output_type": "stream",
     "text": [
      "Train Loss: 0.0016, Accuracy: 99.95%\n",
      "Validation Loss: 0.1117, Accuracy: 98.73%\n"
     ]
    },
    {
     "name": "stderr",
     "output_type": "stream",
     "text": [
      "Epoch 24/30: 100%|███████████████████████████████████████████████████████████████████| 399/399 [00:13<00:00, 29.92it/s]\n"
     ]
    },
    {
     "name": "stdout",
     "output_type": "stream",
     "text": [
      "Train Loss: 0.0001, Accuracy: 100.00%\n",
      "Validation Loss: 0.1072, Accuracy: 98.73%\n"
     ]
    },
    {
     "name": "stderr",
     "output_type": "stream",
     "text": [
      "Epoch 25/30: 100%|███████████████████████████████████████████████████████████████████| 399/399 [00:13<00:00, 30.05it/s]\n"
     ]
    },
    {
     "name": "stdout",
     "output_type": "stream",
     "text": [
      "Train Loss: 0.0002, Accuracy: 100.00%\n",
      "Validation Loss: 0.1192, Accuracy: 98.55%\n"
     ]
    },
    {
     "name": "stderr",
     "output_type": "stream",
     "text": [
      "Epoch 26/30: 100%|███████████████████████████████████████████████████████████████████| 399/399 [00:13<00:00, 30.21it/s]\n"
     ]
    },
    {
     "name": "stdout",
     "output_type": "stream",
     "text": [
      "Train Loss: 0.0001, Accuracy: 99.99%\n",
      "Validation Loss: 0.1091, Accuracy: 98.77%\n"
     ]
    },
    {
     "name": "stderr",
     "output_type": "stream",
     "text": [
      "Epoch 27/30: 100%|███████████████████████████████████████████████████████████████████| 399/399 [00:13<00:00, 30.36it/s]\n"
     ]
    },
    {
     "name": "stdout",
     "output_type": "stream",
     "text": [
      "Train Loss: 0.0000, Accuracy: 100.00%\n",
      "Validation Loss: 0.1329, Accuracy: 98.64%\n"
     ]
    },
    {
     "name": "stderr",
     "output_type": "stream",
     "text": [
      "Epoch 28/30: 100%|███████████████████████████████████████████████████████████████████| 399/399 [00:13<00:00, 30.42it/s]\n"
     ]
    },
    {
     "name": "stdout",
     "output_type": "stream",
     "text": [
      "Train Loss: 0.0000, Accuracy: 100.00%\n",
      "Validation Loss: 0.1241, Accuracy: 98.80%\n"
     ]
    },
    {
     "name": "stderr",
     "output_type": "stream",
     "text": [
      "Epoch 29/30: 100%|███████████████████████████████████████████████████████████████████| 399/399 [00:13<00:00, 30.43it/s]\n"
     ]
    },
    {
     "name": "stdout",
     "output_type": "stream",
     "text": [
      "Train Loss: 0.0295, Accuracy: 99.15%\n",
      "Validation Loss: 0.1060, Accuracy: 98.40%\n"
     ]
    },
    {
     "name": "stderr",
     "output_type": "stream",
     "text": [
      "Epoch 30/30: 100%|███████████████████████████████████████████████████████████████████| 399/399 [00:13<00:00, 30.40it/s]\n"
     ]
    },
    {
     "name": "stdout",
     "output_type": "stream",
     "text": [
      "Train Loss: 0.0067, Accuracy: 99.82%\n",
      "Validation Loss: 0.1243, Accuracy: 98.43%\n"
     ]
    }
   ],
   "source": [
    "# Training loop\n",
    "for epoch in range(epochs):\n",
    "    model.train()  # Set model to training mode\n",
    "    running_loss = 0.0\n",
    "    correct = 0\n",
    "    total = 0\n",
    "    for batch in tqdm(train_loader, desc=f\"Epoch {epoch+1}/{epochs}\"):\n",
    "        images = batch['image'].to(device)\n",
    "        labels = batch['label'].to(device)\n",
    "        \n",
    "        optimizer.zero_grad()  # Zero the gradients before backprop\n",
    "        \n",
    "        # Forward pass\n",
    "        outputs = model(images)  # Forward pass through the network\n",
    "        \n",
    "        # Compute the loss\n",
    "        loss = criterion(outputs.squeeze(), labels)  # Squeeze the output to match the label shape\n",
    "        \n",
    "        # Backward pass and optimization\n",
    "        loss.backward()\n",
    "        optimizer.step()\n",
    "        \n",
    "        # Track the running loss\n",
    "        running_loss += loss.item()\n",
    "        \n",
    "        # Calculate accuracy\n",
    "        predicted = (outputs.squeeze() > 0.5).float()  # Predicted class: 1 if output > 0.5, else 0\n",
    "        correct += (predicted == labels).sum().item()\n",
    "        total += labels.size(0)\n",
    "    \n",
    "    # Average loss and accuracy for the epoch\n",
    "    avg_loss = running_loss / len(train_loader)\n",
    "    accuracy = 100 * correct / total\n",
    "    print(f\"Train Loss: {avg_loss:.4f}, Accuracy: {accuracy:.2f}%\")\n",
    "    \n",
    "    # Validation loop (using the separate test dataset)\n",
    "    model.eval()  # Set model to evaluation mode\n",
    "    val_loss = 0.0\n",
    "    correct = 0\n",
    "    total = 0\n",
    "    with torch.no_grad():  # Disable gradient computation during validation\n",
    "        for batch in test_loader:\n",
    "            images = batch['image'].to(device)\n",
    "            labels = batch['label'].to(device)\n",
    "            \n",
    "            outputs = model(images)  # Forward pass through the model\n",
    "            loss = criterion(outputs.squeeze(), labels)  # Compute validation loss\n",
    "            val_loss += loss.item()\n",
    "            \n",
    "            # Calculate validation accuracy\n",
    "            predicted = (outputs.squeeze() > 0.5).float()\n",
    "            correct += (predicted == labels).sum().item()\n",
    "            total += labels.size(0)\n",
    "    \n",
    "    # Average validation loss and accuracy\n",
    "    avg_val_loss = val_loss / len(test_loader)\n",
    "    val_accuracy = 100 * correct / total\n",
    "    print(f\"Validation Loss: {avg_val_loss:.4f}, Accuracy: {val_accuracy:.2f}%\")"
   ]
  },
  {
   "cell_type": "code",
   "execution_count": 41,
   "id": "cb3072de-cab3-4cb4-9b6a-8d43cf88d987",
   "metadata": {},
   "outputs": [],
   "source": [
    "# Save model after all epochs\n",
    "torch.save(model.state_dict(), 'final_model.pth')"
   ]
  },
  {
   "cell_type": "code",
   "execution_count": null,
   "id": "a33b3526-1889-4d00-a02a-91fe9e267981",
   "metadata": {},
   "outputs": [],
   "source": []
  }
 ],
 "metadata": {
  "kernelspec": {
   "display_name": "Python 3 (ipykernel)",
   "language": "python",
   "name": "python3"
  },
  "language_info": {
   "codemirror_mode": {
    "name": "ipython",
    "version": 3
   },
   "file_extension": ".py",
   "mimetype": "text/x-python",
   "name": "python",
   "nbconvert_exporter": "python",
   "pygments_lexer": "ipython3",
   "version": "3.10.15"
  }
 },
 "nbformat": 4,
 "nbformat_minor": 5
}
