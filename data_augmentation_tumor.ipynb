{
 "cells": [
  {
   "cell_type": "code",
   "execution_count": 3,
   "id": "a77fa3f0-04a6-4f45-a197-afb51a979e96",
   "metadata": {},
   "outputs": [],
   "source": [
    "from torchvision import transforms\n",
    "from PIL import Image\n",
    "import os\n",
    "import random\n",
    "\n",
    "# Define augmentations\n",
    "transform = transforms.Compose([\n",
    "    transforms.RandomHorizontalFlip(),\n",
    "    transforms.RandomRotation(30),\n",
    "    transforms.ColorJitter(brightness=0.2, contrast=0.2),\n",
    "    transforms.ToTensor(),\n",
    "])\n",
    "\n",
    "# Apply augmentation to each image and save\n",
    "source_folder = './Dataset/Testing/tumor/'\n",
    "destination_folder = './Dataset/Testing/aug_tumor/'\n",
    "os.makedirs(destination_folder, exist_ok=True)\n",
    "\n",
    "# Get the list of images in the source folder\n",
    "images = os.listdir(source_folder)\n",
    "\n",
    "# Randomly select 223 images from the list\n",
    "selected_images = random.sample(images, 238)\n",
    "\n",
    "for image_name in selected_images:\n",
    "    image_path = os.path.join(source_folder, image_name)\n",
    "    image = Image.open(image_path)\n",
    "    \n",
    "    # Ensure the image is in RGB mode (if it's not)\n",
    "    if image.mode != 'RGB':\n",
    "        image = image.convert('RGB')\n",
    "        \n",
    "    for i in range(3):  # Generate 3 augmented versions per selected image\n",
    "        augmented_image = transform(image)  # Apply transformations\n",
    "        augmented_image = transforms.ToPILImage()(augmented_image)  # Convert back to PIL image\n",
    "        \n",
    "        # Convert image to RGB if it has an alpha channel (RGBA)\n",
    "        if augmented_image.mode == 'RGBA':\n",
    "            augmented_image = augmented_image.convert('RGB')\n",
    "        \n",
    "        augmented_image.save(os.path.join(destination_folder, f'{i}_{image_name}'))\n"
   ]
  },
  {
   "cell_type": "code",
   "execution_count": null,
   "id": "b7a9cfcf-37f2-4d73-ae92-11d050e7b95d",
   "metadata": {},
   "outputs": [],
   "source": []
  }
 ],
 "metadata": {
  "kernelspec": {
   "display_name": "Python 3 (ipykernel)",
   "language": "python",
   "name": "python3"
  },
  "language_info": {
   "codemirror_mode": {
    "name": "ipython",
    "version": 3
   },
   "file_extension": ".py",
   "mimetype": "text/x-python",
   "name": "python",
   "nbconvert_exporter": "python",
   "pygments_lexer": "ipython3",
   "version": "3.10.15"
  }
 },
 "nbformat": 4,
 "nbformat_minor": 5
}
